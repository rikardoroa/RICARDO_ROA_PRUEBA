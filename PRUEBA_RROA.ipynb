{
 "cells": [
  {
   "cell_type": "code",
   "execution_count": null,
   "id": "preceding-crazy",
   "metadata": {},
   "outputs": [],
   "source": [
    "#scripts por Ricardo Roa\n",
    "import numpy as np\n",
    "import re as re\n",
    "\n",
    "            \n",
    "def o_dimension(e): #Paso la lista como parametro\n",
    "    array = np.asarray(e)# la convierto en un numpy array\n",
    "    dimension = print(len(array.shape)) #calculo el valor de la dimension con el metodo len y shape\n",
    "    return dimension #retorno la dimension\n",
    "    \n",
    "    \n",
    "def o_straight(e):\n",
    "    for col in e: #recorro la lista\n",
    "        for index in range(len(col)-1): #tomo la posicion menos uno de la columna para el calculo del index\n",
    "            if len(col[index]) > len(col[index+1]) or len(col[index]) < len(col[index+1]): # valido si la posicion siguiente es mayor o menor que la posicion anterior\n",
    "                return False # si cumple con la condicion se retorna falso\n",
    "                print(type(e))     \n",
    "    for col in e:\n",
    "        for index in range(len(col)-1):\n",
    "            if len(col[index]) == len(col[index+1]) or len(col[index+1]) == len(col[index]) : #valido si el tamaño de las posiciones son iguales\n",
    "                return True # si cumple con la condicion se retorna True\n",
    "\n",
    "def o_compute(e):\n",
    "    try:\n",
    "        suma = 0 # inicializo la variable suma en 0\n",
    "        x= np.array(e,dtype=object)#paso la lista como parametro y lo convierto en un array de tipo objeto\n",
    "        a = x.sum() #el metodo sum me arroja una lista si el array tiene distintas columnas\n",
    "        for item in a: # recorro los items de la lista con un for loop\n",
    "            suma = suma + item # inicio la suma de los items \n",
    "    except TypeError:#si el tamaño de las columnas son iguales en el array, se disparala la excepcion y pasa a ejecutar la siguiente linea\n",
    "        x= np.array(e,dtype=object)#paso la lista como parametro y la convierto en un array\n",
    "        suma = x.sum()#sumo todos los datos del array\n",
    "    return suma #se retona la suma en ambos casos\n",
    "  \n",
    "\n",
    "def s_operation(str):#se para como parametro un string\n",
    "    a = None #se declara la variable en la que se va a guardar el string\n",
    "    if bool(re.search((\"[+-/*]\"),str)) == True:#se aplica un regex con el metodo search aplicando un patron, si se cumple(True), evalua la siguiente linea\n",
    "        a = True #si se encuentra el patron se imprime True\n",
    "    else:\n",
    "        a = False#si no se encuentra el patron se imprime false\n",
    "    return a#se retorna el valor guardado en a dependiendo del cumplimiento de las condiciones anteriores\n",
    "\n",
    "def s_compute(str):#se pasa un string como parametro a la funcion\n",
    "    try:\n",
    "        a = None#se declara la variable donde se va a guardar el string\n",
    "        if bool(re.search((\"[()+-/*0-9]\"),str)) == True:#se aplica un regex con el metodo search aplicando un patron, si se cumple(True), evalua la siguiente linea\n",
    "            exp = eval(str)#se evalua la expresion matematica con el metodo eval\n",
    "        if bool(re.search((\"[A-Za-z]\"),str)) == True:#se aplica un regex con el metodo search aplicando un patron, si se cumple(True), evalua la siguiente linea\n",
    "            exp = (\"error, digite la expresion apropiada\")#si el string no cumple con las condiciones de la expresion arroja un mensaje de error\n",
    "        return exp#se retorna la expresion (de acuerdo a las condiciones evaluadas anteriormente)\n",
    "    except SyntaxError:\n",
    "        print(\"False\")#se retorna error si no se escribe de manera adecuada la expresion\n",
    "    except NameError:\n",
    "        print(\"False\")#se retorna error si no se escribe de manera adecuada la expresion"
   ]
  },
  {
   "cell_type": "code",
   "execution_count": null,
   "id": "unexpected-raising",
   "metadata": {},
   "outputs": [],
   "source": [
    "o_dimension([[[2,3,4],[5,6,7]]]) "
   ]
  },
  {
   "cell_type": "code",
   "execution_count": null,
   "id": "short-spyware",
   "metadata": {},
   "outputs": [],
   "source": [
    "o_dimension([[[2,3,4],[5,6,7]]]) "
   ]
  },
  {
   "cell_type": "code",
   "execution_count": null,
   "id": "prime-resistance",
   "metadata": {},
   "outputs": [],
   "source": [
    "o_dimension([[2,3,1,2],[1,1,1,1]])  "
   ]
  },
  {
   "cell_type": "code",
   "execution_count": null,
   "id": "occupational-polymer",
   "metadata": {},
   "outputs": [],
   "source": [
    "o_dimension([[[1,3],[2,3]]])"
   ]
  },
  {
   "cell_type": "code",
   "execution_count": null,
   "id": "eight-labor",
   "metadata": {},
   "outputs": [],
   "source": [
    "o_straight([[[58],[27],[2,4]]]) "
   ]
  },
  {
   "cell_type": "code",
   "execution_count": null,
   "id": "median-graphic",
   "metadata": {},
   "outputs": [],
   "source": [
    "o_straight([[[3,3],[55],[1,1]]])"
   ]
  },
  {
   "cell_type": "code",
   "execution_count": null,
   "id": "graphic-above",
   "metadata": {},
   "outputs": [],
   "source": [
    "o_straight([[[1,2,3],[4,5,6],[7,8,9]]]) "
   ]
  },
  {
   "cell_type": "code",
   "execution_count": null,
   "id": "ecological-listening",
   "metadata": {},
   "outputs": [],
   "source": [
    "o_straight([[[1],[1],[2]]]) "
   ]
  },
  {
   "cell_type": "code",
   "execution_count": null,
   "id": "photographic-knowing",
   "metadata": {},
   "outputs": [],
   "source": [
    "o_compute([[[58],[27],[2,4]]]) "
   ]
  },
  {
   "cell_type": "code",
   "execution_count": null,
   "id": "occupied-constant",
   "metadata": {},
   "outputs": [],
   "source": [
    "o_compute([[[3,3],[55],[1,1]]])  "
   ]
  },
  {
   "cell_type": "code",
   "execution_count": null,
   "id": "obvious-smooth",
   "metadata": {},
   "outputs": [],
   "source": [
    "o_compute([[[1,2,3],[4,5,6],[7,8,9]]])"
   ]
  },
  {
   "cell_type": "code",
   "execution_count": null,
   "id": "protective-colorado",
   "metadata": {},
   "outputs": [],
   "source": [
    "o_compute([[[1,2],[11]]])"
   ]
  },
  {
   "cell_type": "code",
   "execution_count": null,
   "id": "atlantic-audio",
   "metadata": {},
   "outputs": [],
   "source": [
    "s_operation(\"hola\")"
   ]
  },
  {
   "cell_type": "code",
   "execution_count": null,
   "id": "authentic-favorite",
   "metadata": {},
   "outputs": [],
   "source": [
    "s_operation(\"2 + 10 / 2 - 20\")"
   ]
  },
  {
   "cell_type": "code",
   "execution_count": null,
   "id": "expensive-polyester",
   "metadata": {},
   "outputs": [],
   "source": [
    "s_operation(\"5*(10+20)\")"
   ]
  },
  {
   "cell_type": "code",
   "execution_count": null,
   "id": "treated-master",
   "metadata": {},
   "outputs": [],
   "source": [
    "s_operation(\"(20*30)/(10/2)*(7+5)\")"
   ]
  },
  {
   "cell_type": "code",
   "execution_count": null,
   "id": "administrative-recommendation",
   "metadata": {},
   "outputs": [],
   "source": [
    "s_compute(\"5*(10+20)\")"
   ]
  },
  {
   "cell_type": "code",
   "execution_count": null,
   "id": "mexican-voice",
   "metadata": {},
   "outputs": [],
   "source": [
    "s_compute(\"2A\")"
   ]
  },
  {
   "cell_type": "code",
   "execution_count": null,
   "id": "weighted-following",
   "metadata": {},
   "outputs": [],
   "source": [
    "s_compute(\"(20*30)/(10/2)*(7+5)\")"
   ]
  },
  {
   "cell_type": "code",
   "execution_count": null,
   "id": "advised-bracket",
   "metadata": {},
   "outputs": [],
   "source": [
    "s_compute(\"hola\")"
   ]
  }
 ],
 "metadata": {
  "kernelspec": {
   "display_name": "Python 3",
   "language": "python",
   "name": "python3"
  },
  "language_info": {
   "codemirror_mode": {
    "name": "ipython",
    "version": 3
   },
   "file_extension": ".py",
   "mimetype": "text/x-python",
   "name": "python",
   "nbconvert_exporter": "python",
   "pygments_lexer": "ipython3",
   "version": "3.8.7"
  }
 },
 "nbformat": 4,
 "nbformat_minor": 5
}
